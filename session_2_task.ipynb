{
 "cells": [
  {
   "cell_type": "markdown",
   "metadata": {
    "id": "w6RlOAXV2PWh"
   },
   "source": [
    "### `Problem 1`: Write a program that will give you in hand monthly salary after deduction on CTC - HRA(10%), DA(5%), PF(3%) and taxes deduction as below:\n",
    "\n",
    "> Salary(Lakhs) : Tax(%)\n",
    "\n",
    "*   Below 5 : 0%\n",
    "*   5-10 : 10%\n",
    "*   10-20 : 20%\n",
    "*   aboove 20 : 30%"
   ]
  },
  {
   "cell_type": "code",
   "execution_count": 1,
   "metadata": {
    "id": "7tMHvKYO2etI"
   },
   "outputs": [
    {
     "name": "stdout",
     "output_type": "stream",
     "text": [
      "enter your ctc1200000\n",
      "your in hand salary is 62000.0\n"
     ]
    }
   ],
   "source": [
    "# Write code here\n",
    "#taking ctc from user as input\n",
    "ctc = int(input('enter your ctc'))\n",
    "\n",
    "#now calculating tax\n",
    "if ctc < 500000:\n",
    "    salary = ctc*.82\n",
    "elif ctc < 1000000:\n",
    "    salary = ctc*.72 \n",
    "    \n",
    "elif ctc < 2000000:\n",
    "    salary = ctc*.62\n",
    "else:\n",
    "    salary = ctc*.52\n",
    "    \n",
    "print(f'your in hand salary is {salary/12}')"
   ]
  },
  {
   "cell_type": "markdown",
   "metadata": {
    "id": "tYzCGqwl2hfN"
   },
   "source": [
    "### `Problem 2`: Write a program that take a user input of three angles and will find out whether it can form a triangle or not."
   ]
  },
  {
   "cell_type": "code",
   "execution_count": 3,
   "metadata": {
    "id": "FYEqln-I2kxV"
   },
   "outputs": [
    {
     "name": "stdout",
     "output_type": "stream",
     "text": [
      "enter your first angle:\t90\n",
      "enter your second angle:\t60\n",
      "enter your third angle:\t30\n",
      "this is triangle\n"
     ]
    }
   ],
   "source": [
    "# Write code here\n",
    "#taking all angles from user\n",
    "angle_1 = int(input('enter your first angle:\\t'))\n",
    "angle_2 = int(input('enter your second angle:\\t'))\n",
    "angle_3 = int(input('enter your third angle:\\t'))\n",
    "\n",
    "if (angle_1+angle_2+angle_3) == 180 and angle_1>0 and angle_2>0 and angle_3>0:\n",
    "    print('this is triangle')\n",
    "else:\n",
    "    print('this is not a triangle')"
   ]
  },
  {
   "cell_type": "markdown",
   "metadata": {
    "id": "5vEpPh8C2pE4"
   },
   "source": [
    "### `Problem 3`: Write a program that will take user input of cost price and selling price and determines whether its a loss or a profit."
   ]
  },
  {
   "cell_type": "code",
   "execution_count": 6,
   "metadata": {
    "id": "jDwBXlkO2sfl"
   },
   "outputs": [
    {
     "name": "stdout",
     "output_type": "stream",
     "text": [
      "enter your cost price::\t30\n",
      "enter your selling price:\t30\n",
      "no profit no loss\n"
     ]
    }
   ],
   "source": [
    "# Write code here\n",
    "cost_price = float(input('enter your cost price::\\t'))\n",
    "selling_price = float(input('enter your selling price:\\t'))\n",
    "\n",
    "if cost_price < selling_price:\n",
    "    print('profit')\n",
    "elif cost_price > selling_price:\n",
    "    print('loss')\n",
    "else:\n",
    "    print('no profit no loss')"
   ]
  },
  {
   "cell_type": "markdown",
   "metadata": {
    "id": "J_FG_cJW2ugT"
   },
   "source": [
    "### `Problem 4`: Write a menu-driven program -\n",
    "1. cm to ft\n",
    "2. km to miles\n",
    "3. USD to INR\n",
    "4. exit"
   ]
  },
  {
   "cell_type": "code",
   "execution_count": 9,
   "metadata": {
    "id": "yBHhaCGQ2zpD"
   },
   "outputs": [
    {
     "name": "stdout",
     "output_type": "stream",
     "text": [
      "\n",
      "select an option\n",
      "press 1 for cm to ft\n",
      "press 2 for km to miles\n",
      "press 3 for usd to inr\n",
      "press 4 for exit4\n",
      "3\n",
      "enter your usd values11\n",
      "11.0 usd to rupee is 902.6600000000001\n"
     ]
    }
   ],
   "source": [
    "# Write code here\n",
    "menu = int(input('''\n",
    "select an option\n",
    "press 1 for cm to ft\n",
    "press 2 for km to miles\n",
    "press 3 for usd to inr\n",
    "press 4 for exit4\n",
    "'''))\n",
    "\n",
    "# 1 cm is equal to 0.0328084 ft\n",
    "if menu == 1:\n",
    "    cm = float(input('enter your cm values'))\n",
    "    print(f'{cm} cm to ft is {cm*0.0328084}')\n",
    "\n",
    "# 1 km is equal to 0.621371 miles\n",
    "elif menu == 2:\n",
    "    km = float(input('enter your km values'))\n",
    "    print(f'{km} km to miles is {km*0.621371}')\n",
    "    \n",
    "# 1 usd is equal to 82.06 rupee\n",
    "elif menu == 3:\n",
    "    usd = float(input('enter your usd values'))\n",
    "    print(f'{usd} usd to rupee is {usd*82.06}')\n",
    "    \n",
    "else:\n",
    "    pass"
   ]
  },
  {
   "cell_type": "markdown",
   "metadata": {
    "id": "LJJ30_Yw27ZU"
   },
   "source": [
    "### `Problem 5` - Exercise 12: Display Fibonacci series up to 10 terms.\n",
    "\n",
    "*Note: The Fibonacci Sequence is a series of numbers. The next number is found by adding up the two numbers before it. The first two numbers are 0 and 1. For example, 0, 1, 1, 2, 3, 5, 8, 13, 21. The next number in this series above is 13+21 = 34*"
   ]
  },
  {
   "cell_type": "code",
   "execution_count": 11,
   "metadata": {
    "id": "ae_1rpe52-5R"
   },
   "outputs": [
    {
     "name": "stdout",
     "output_type": "stream",
     "text": [
      "enter your term in fibonacci sereis10\n",
      "the 0 term is 0\n",
      "the 1 term is 1\n",
      "the 2 term is 1\n",
      "the 3 term is 2\n",
      "the 4 term is 3\n",
      "the 5 term is 5\n",
      "the 6 term is 8\n",
      "the 7 term is 13\n",
      "the 8 term is 21\n",
      "the 9 term is 34\n"
     ]
    }
   ],
   "source": [
    "# Write code here\n",
    "num1,num2 = 0,1\n",
    "\n",
    "# taking which term user want to find\n",
    "term = int(input('enter your term in fibonacci sereis:\\t'))\n",
    "\n",
    "for i in range(term):\n",
    "    print(f'the {i} term is {num1}')\n",
    "    \n",
    "    new = num1 + num2\n",
    "    \n",
    "    num1 = num2\n",
    "    num2 = new"
   ]
  },
  {
   "cell_type": "markdown",
   "metadata": {
    "id": "pk_I_S4m3PT5"
   },
   "source": [
    "### `Problem 6` - Find the factorial of a given number.\n",
    "\n",
    "Write a program to use the loop to find the factorial of a given number.\n",
    "\n",
    "The factorial (symbol: `!`) means to multiply all whole numbers from the chosen number down to 1.\n",
    "\n",
    "For example: calculate the factorial of 5\n",
    "\n",
    "```bash\n",
    "5! = 5 × 4 × 3 × 2 × 1 = 120\n",
    "```\n",
    "\n",
    "Output:\n",
    "\n",
    "```bash\n",
    "120\n",
    "```"
   ]
  },
  {
   "cell_type": "code",
   "execution_count": 14,
   "metadata": {
    "id": "lzXxHegx3Rkc"
   },
   "outputs": [
    {
     "name": "stdout",
     "output_type": "stream",
     "text": [
      "enter your factorial number:\t5\n",
      "120\n"
     ]
    }
   ],
   "source": [
    "# Write code here\n",
    "num = int(input('enter your factorial number:\\t'))\n",
    "\n",
    "fact = 1\n",
    "for i in range(1,num + 1):\n",
    "    fact = fact * i\n",
    "print(fact)"
   ]
  },
  {
   "cell_type": "markdown",
   "metadata": {
    "id": "-17IOi-g3UpU"
   },
   "source": [
    "### `Problem 7` - Reverse a given integer number.\n",
    "\n",
    "Example:\n",
    "\n",
    "`Input:`\n",
    "\n",
    "```bash\n",
    "76542\n",
    "```\n",
    "\n",
    "`Output:`\n",
    "\n",
    "```bash\n",
    "24567\n",
    "```"
   ]
  },
  {
   "cell_type": "code",
   "execution_count": 30,
   "metadata": {
    "id": "wJwLpKCr3aVA"
   },
   "outputs": [
    {
     "name": "stdout",
     "output_type": "stream",
     "text": [
      "enter your number123456\n",
      "654321\n"
     ]
    }
   ],
   "source": [
    "# Write code here\n",
    "number = int(input('enter your number:\\t'))\n",
    "\n",
    "number = str(number)\n",
    "\n",
    "number = number[::-1]\n",
    "\n",
    "number = int(number)\n",
    "\n",
    "print(number)"
   ]
  },
  {
   "cell_type": "markdown",
   "metadata": {
    "id": "-t8PJQaY3sHf"
   },
   "source": [
    "### `Problem 8`: Take a user input as integer N. Find out the sum from 1 to N. If any number if divisible by 5, then skip that number. And if the sum is greater than 300, don't need to calculate the sum further more. Print the final result. And don't use for loop to solve this problem.\n",
    "\n",
    "**Example 1:**\n",
    "\n",
    "`Input:`\n",
    "\n",
    "```bash\n",
    "30\n",
    "```\n",
    "\n",
    "`Output:`\n",
    "\n",
    "```bash\n",
    "276\n",
    "```"
   ]
  },
  {
   "cell_type": "code",
   "execution_count": 70,
   "metadata": {
    "id": "GZB6mGMP3ujT"
   },
   "outputs": [
    {
     "name": "stdout",
     "output_type": "stream",
     "text": [
      "enter your number:\t40\n",
      "276\n"
     ]
    }
   ],
   "source": [
    "# Write code here\n",
    "#taking input of nth number from user\n",
    "n = int(input('enter your number:\\t'))\n",
    "\n",
    "sum = 0\n",
    "i = 1\n",
    "\n",
    "while i < n:\n",
    "    if i % 5 == 0:\n",
    "        i += 1\n",
    "        continue\n",
    "    \n",
    "    sum += i\n",
    "    \n",
    "    if sum > 300:\n",
    "        sum -= i\n",
    "        break\n",
    "    i += 1\n",
    "print(sum)\n",
    "    "
   ]
  },
  {
   "cell_type": "markdown",
   "metadata": {
    "id": "Q7ggImeA3xm4"
   },
   "source": [
    "### `Problem 9`: Write a program that keeps on accepting a number from the user until the user enters Zero. Display the sum and average of all the numbers."
   ]
  },
  {
   "cell_type": "code",
   "execution_count": 86,
   "metadata": {
    "id": "t_YDSZDe4Kdo"
   },
   "outputs": [
    {
     "name": "stdout",
     "output_type": "stream",
     "text": [
      "enter your number:\t1\n",
      "enter your number:\t2\n",
      "enter your number:\t3\n",
      "enter your number:\t4\n",
      "enter your number:\t5\n",
      "enter your number:\t0\n",
      "you try 5 time\n",
      "total sum of entered number is 15\n",
      "3.0\n"
     ]
    }
   ],
   "source": [
    "# Write code here\n",
    "avg = 0\n",
    "sum = 0\n",
    "\n",
    "while True:\n",
    "    num = int(input('enter your number:\\t'))\n",
    "    \n",
    "    sum += num\n",
    "    if num == 0:\n",
    "        break\n",
    "    avg += 1\n",
    "\n",
    "print(f'you try {avg} time')\n",
    "print(f'total sum of entered number is {sum}')\n",
    "print(sum/avg)"
   ]
  },
  {
   "cell_type": "markdown",
   "metadata": {
    "id": "6EhvEMvm4R7s"
   },
   "source": [
    "### `Problem 9`: Write a program which will find all such numbers which are divisible by 7 but are not a multiple of 5, between 2000 and 3200 (both included). The numbers obtained should be printed in a comma-separated sequence on a single line."
   ]
  },
  {
   "cell_type": "code",
   "execution_count": 4,
   "metadata": {
    "id": "d6RgP1B34T6c"
   },
   "outputs": [
    {
     "name": "stdout",
     "output_type": "stream",
     "text": [
      "2002,2009,2016,2023,2037,2044,2051,2058,2072,2079,2086,2093,2107,2114,2121,2128,2142,2149,2156,2163,2177,2184,2191,2198,2212,2219,2226,2233,2247,2254,2261,2268,2282,2289,2296,2303,2317,2324,2331,2338,2352,2359,2366,2373,2387,2394,2401,2408,2422,2429,2436,2443,2457,2464,2471,2478,2492,2499,2506,2513,2527,2534,2541,2548,2562,2569,2576,2583,2597,2604,2611,2618,2632,2639,2646,2653,2667,2674,2681,2688,2702,2709,2716,2723,2737,2744,2751,2758,2772,2779,2786,2793,2807,2814,2821,2828,2842,2849,2856,2863,2877,2884,2891,2898,2912,2919,2926,2933,2947,2954,2961,2968,2982,2989,2996,3003,3017,3024,3031,3038,3052,3059,3066,3073,3087,3094,3101,3108,3122,3129,3136,3143,3157,3164,3171,3178,3192,3199\n"
     ]
    }
   ],
   "source": [
    "# Write code here\n",
    "l = []\n",
    "\n",
    "for i in range(2000,3201):\n",
    "    if i % 7 == 0 and i % 5 != 0:\n",
    "        l.append(str(i))\n",
    "\n",
    "print(','.join(l))"
   ]
  },
  {
   "cell_type": "markdown",
   "metadata": {
    "id": "tYvmRR-G4Vp4"
   },
   "source": [
    "### `Problem 10`: Write a program, which will find all such numbers between 1000 and 3000 (both included) such that each digit of the number is an even number. The numbers obtained should be printed in a space-separated sequence on a single line.\n",
    "\n"
   ]
  },
  {
   "cell_type": "code",
   "execution_count": 27,
   "metadata": {
    "id": "k6Gs1kIf4k19"
   },
   "outputs": [
    {
     "name": "stdout",
     "output_type": "stream",
     "text": [
      "2000,2002,2004,2006,2008,2020,2022,2024,2026,2028,2040,2042,2044,2046,2048,2060,2062,2064,2066,2068,2080,2082,2084,2086,2088,2200,2202,2204,2206,2208,2220,2222,2224,2226,2228,2240,2242,2244,2246,2248,2260,2262,2264,2266,2268,2280,2282,2284,2286,2288,2400,2402,2404,2406,2408,2420,2422,2424,2426,2428,2440,2442,2444,2446,2448,2460,2462,2464,2466,2468,2480,2482,2484,2486,2488,2600,2602,2604,2606,2608,2620,2622,2624,2626,2628,2640,2642,2644,2646,2648,2660,2662,2664,2666,2668,2680,2682,2684,2686,2688,2800,2802,2804,2806,2808,2820,2822,2824,2826,2828,2840,2842,2844,2846,2848,2860,2862,2864,2866,2868,2880,2882,2884,2886,2888\n"
     ]
    }
   ],
   "source": [
    "# Write code here\n",
    "l = []\n",
    "\n",
    "for i in range(1000,3001):\n",
    "    st =str(i)\n",
    "    \n",
    "    for j in st:\n",
    "        flag = True\n",
    "        if int(j) % 2 != 0:\n",
    "            flag = False\n",
    "            break\n",
    "    if flag :\n",
    "        l.append(st)\n",
    "        \n",
    "print(','.join(l))"
   ]
  },
  {
   "cell_type": "markdown",
   "metadata": {
    "id": "GV18IINT4mf5"
   },
   "source": [
    "### `Problem 11`: A robot moves in a plane starting from the original point (0,0). The robot can move toward UP, DOWN, LEFT and RIGHT with a given steps.\n",
    "The trace of robot movement is shown as the following:\n",
    "```\n",
    "UP 5\n",
    "DOWN 3\n",
    "LEFT 3\n",
    "RIGHT 2\n",
    "!\n",
    "```\n",
    "> The numbers after the direction are steps.\n",
    "\n",
    "> `!` means robot stop there.\n",
    "\n",
    "**Please write a program to compute the distance from current position after a sequence of movement and original point.**\n",
    "\n",
    "*If the distance is a float, then just print the nearest integer.*\n",
    "\n",
    "Example:\n",
    "\n",
    "`Input`:\n",
    "```\n",
    "UP 5\n",
    "DOWN 3\n",
    "LEFT 3\n",
    "RIGHT 2\n",
    "!\n",
    "```\n",
    "`Output`:\n",
    "```\n",
    "2\n",
    "```"
   ]
  },
  {
   "cell_type": "code",
   "execution_count": 34,
   "metadata": {
    "id": "6UNMC2aR4w5x"
   },
   "outputs": [
    {
     "name": "stdout",
     "output_type": "stream",
     "text": [
      "enter your robot movement:\tup 5\n",
      "enter your robot movement:\tdown 6\n",
      "enter your robot movement:\tleft 5\n",
      "enter your robot movement:\tup 2\n",
      "enter your robot movement:\t!\n",
      "[-5, 1]\n",
      "5.0990195135927845\n"
     ]
    }
   ],
   "source": [
    "# Write code here\n",
    "pos = [0,0]\n",
    "\n",
    "while True:\n",
    "    track = input('enter your robot movement:\\t')\n",
    "    \n",
    "    if track == '!':\n",
    "        break\n",
    "    \n",
    "    direction = track.split()[0]\n",
    "    step = int(track.split()[1])\n",
    "    \n",
    "    if direction == 'up':\n",
    "        pos[1] += step\n",
    "    elif direction == 'down':\n",
    "        pos[1] -= step\n",
    "    elif direction == 'left':\n",
    "        pos[0] -= step\n",
    "    elif direction == 'right':\n",
    "        pos[0] += step\n",
    "    else:\n",
    "        pass\n",
    "    \n",
    "print(pos)\n",
    "print((pos[0]**2+pos[1]**2)**0.5)"
   ]
  },
  {
   "cell_type": "markdown",
   "metadata": {
    "id": "3fsAIAhK5GYY"
   },
   "source": [
    "### `Problem 12`:Write a program to print whether a given number is a prime number or not"
   ]
  },
  {
   "cell_type": "code",
   "execution_count": 39,
   "metadata": {
    "id": "j6y91lxy5LZs"
   },
   "outputs": [
    {
     "name": "stdout",
     "output_type": "stream",
     "text": [
      "enter your number:\t17\n",
      "17 is a prime number\n"
     ]
    }
   ],
   "source": [
    "# Write code here\n",
    "num = int(input('enter your number:\\t'))\n",
    "\n",
    "for i in range(2,num):\n",
    "    if num % i == 0:\n",
    "        print(f'{num} is not a prime number')\n",
    "        break\n",
    "else:\n",
    "    print(f'{num} is a prime number')"
   ]
  },
  {
   "cell_type": "markdown",
   "metadata": {
    "id": "asAbmbK-5NHv"
   },
   "source": [
    "### `Problem 13`:Print all the Armstrong numbers in a given range.\n",
    "Range will be provided by the user<br>\n",
    "Armstrong number is a number that is equal to the sum of cubes of its digits. For example 0, 1, 153, 370, 371 and 407 are the Armstrong numbers."
   ]
  },
  {
   "cell_type": "code",
   "execution_count": 1,
   "metadata": {
    "id": "PZuI67pm5jCT"
   },
   "outputs": [
    {
     "name": "stdout",
     "output_type": "stream",
     "text": [
      "enter your number:\t1000\n",
      "[0, 1, 153, 370, 371, 407]\n"
     ]
    }
   ],
   "source": [
    "# Write code here\n",
    "num = int(input(\"enter your number:\\t\"))\n",
    "l = []\n",
    "\n",
    "for i in range(0,num+1):\n",
    "    a = 0\n",
    "    for j in str(i):\n",
    "        a += int(j)**3\n",
    "    \n",
    "    if a == i:\n",
    "        l.append(a)\n",
    "    else:\n",
    "        pass\n",
    "\n",
    "print(l)"
   ]
  },
  {
   "cell_type": "markdown",
   "metadata": {
    "id": "ClCQZMqT7gK0"
   },
   "source": [
    "### `Problem 14`:Calculate the angle between the hour hand and minute hand.\n",
    "\n",
    "Note: There can be two angles between hands; we need to print a minimum of two. Also, we need to print the floor of the final result angle. For example, if the final angle is 10.61, we need to print 10.\n",
    "\n",
    "Input:<br>\n",
    "H = 9 , M = 0<br>\n",
    "Output:<br>\n",
    "90<br>\n",
    "Explanation:<br>\n",
    "The minimum angle between hour and minute\n",
    "hand when the time is 9 is 90 degress."
   ]
  },
  {
   "cell_type": "code",
   "execution_count": null,
   "metadata": {
    "id": "tNBTCZML7jy_"
   },
   "outputs": [],
   "source": [
    "# Write code here"
   ]
  },
  {
   "cell_type": "markdown",
   "metadata": {
    "id": "GwacF9Co72Qc"
   },
   "source": [
    "### `Problem 15`:Given two rectangles, find if the given two rectangles overlap or not. A rectangle is denoted by providing the x and y coordinates of two points: the left top corner and the right bottom corner of the rectangle. Two rectangles sharing a side are considered overlapping. (L1 and R1 are the extreme points of the first rectangle and L2 and R2 are the extreme points of the second rectangle).\n",
    "\n",
    "Note: It may be assumed that the rectangles are parallel to the coordinate axis.\n",
    "\n",
    "<img src='https://www.geeksforgeeks.org/wp-content/uploads/rectanglesOverlap.png' width='300' height='200'>"
   ]
  },
  {
   "cell_type": "code",
   "execution_count": null,
   "metadata": {
    "id": "6rrw_lpH78Rs"
   },
   "outputs": [],
   "source": [
    "# Write code here"
   ]
  }
 ],
 "metadata": {
  "colab": {
   "provenance": []
  },
  "kernelspec": {
   "display_name": "Python 3 (ipykernel)",
   "language": "python",
   "name": "python3"
  },
  "language_info": {
   "codemirror_mode": {
    "name": "ipython",
    "version": 3
   },
   "file_extension": ".py",
   "mimetype": "text/x-python",
   "name": "python",
   "nbconvert_exporter": "python",
   "pygments_lexer": "ipython3",
   "version": "3.9.12"
  }
 },
 "nbformat": 4,
 "nbformat_minor": 1
}
