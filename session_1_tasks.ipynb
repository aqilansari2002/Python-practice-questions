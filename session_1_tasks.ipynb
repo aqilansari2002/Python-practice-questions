{
 "cells": [
  {
   "cell_type": "markdown",
   "metadata": {
    "id": "A05OG15VqOPF"
   },
   "source": [
    "# Task : Session 1\n",
    "Solve these questions own your own and try to test yourself what you have learned in the session.\n",
    "\n",
    "Happy Learning!"
   ]
  },
  {
   "cell_type": "markdown",
   "metadata": {
    "id": "2doIXf8bqe9_"
   },
   "source": [
    "### Q1 :- Print the given strings as per stated format.\n",
    "\n",
    "**Given strings**:\n",
    "```\n",
    "\"Data\" \"Science\" \"Mentorship\" \"Program\"\n",
    "\"By\" \"CampusX\"\n",
    "```\n",
    "**Output**:\n",
    "```\n",
    "Data-Science-Mentorship-Program-started-By-CampusX\n",
    "```\n",
    "\n",
    "Concept- [Seperator and End]"
   ]
  },
  {
   "cell_type": "code",
   "execution_count": 10,
   "metadata": {
    "id": "-em6d3KErDtp"
   },
   "outputs": [
    {
     "name": "stdout",
     "output_type": "stream",
     "text": [
      "Data-Science-Mentorship-Program-started-By-CampusX\n"
     ]
    }
   ],
   "source": [
    "# Write your code here\n",
    "print(\"Data\",\"Science\",\"Mentorship\",\"Program\",sep=\"-\",end=\"-started-\")\n",
    "print(\"By\",\"CampusX\",sep=\"-\")"
   ]
  },
  {
   "cell_type": "markdown",
   "metadata": {
    "id": "1KUpN7ZTrC3_"
   },
   "source": [
    "### Q2:- Write a program that will convert celsius value to fahrenheit."
   ]
  },
  {
   "cell_type": "code",
   "execution_count": 20,
   "metadata": {
    "id": "yxKYhYQiqWfj"
   },
   "outputs": [
    {
     "name": "stdout",
     "output_type": "stream",
     "text": [
      "Enter celsius value to convert in fahrenheit : \t1\n",
      "The fahrenheit value of is 33.8 F\n"
     ]
    }
   ],
   "source": [
    "# Write your code here\n",
    "## Taking input from user in celsius\n",
    "celsius = float(input('Enter celsius value to convert in fahrenheit : \\t'))\n",
    "\n",
    "##Converting and storing the celsius value in variable\n",
    "fahrenheit = (celsius * 9/5) + 32 \n",
    "\n",
    "##printing fahrenheit value\n",
    "print(f\"The fahrenheit value of is {fahrenheit} F\")"
   ]
  },
  {
   "cell_type": "markdown",
   "metadata": {
    "id": "RLrOBBJurLB2"
   },
   "source": [
    "### Q3:- Take 2 numbers as input from the user.Write a program to swap the numbers without using any special python syntax."
   ]
  },
  {
   "cell_type": "code",
   "execution_count": 23,
   "metadata": {
    "id": "yPn7if0TrJ4F"
   },
   "outputs": [
    {
     "name": "stdout",
     "output_type": "stream",
     "text": [
      "enter2\n",
      "enter4\n",
      "4\n",
      "2\n"
     ]
    }
   ],
   "source": [
    "# Write your code here\n",
    "#Taking iput from user\n",
    "a = input('enter')\n",
    "b = input('enter')\n",
    "\n",
    "#making temporary variable\n",
    "temp = None\n",
    "\n",
    "#swaping variable from each other\n",
    "temp = a\n",
    "a = b\n",
    "b = temp\n",
    "\n",
    "#printing\n",
    "print(a)\n",
    "print(b)"
   ]
  },
  {
   "cell_type": "markdown",
   "metadata": {
    "id": "waLCP1bjr7ML"
   },
   "source": [
    "### Q4:- Write a program to find the euclidean distance between two coordinates.Take both the coordinates from the user as input."
   ]
  },
  {
   "cell_type": "code",
   "execution_count": 25,
   "metadata": {
    "id": "Pl1Sv-xnrxnH"
   },
   "outputs": [
    {
     "name": "stdout",
     "output_type": "stream",
     "text": [
      "enter your px12\n",
      "enter your py12\n",
      "enter your px24\n",
      "enter your py24\n",
      "2.83\n"
     ]
    }
   ],
   "source": [
    "# Write your code here\n",
    "#Taking input of all coredinates from users\n",
    "px1 = float(input('enter your px1'))\n",
    "py1 = float(input('enter your py1'))\n",
    "px2 = float(input('enter your px2'))\n",
    "py2 = float(input('enter your py2'))\n",
    "\n",
    "#calculating\n",
    "dist = ((px2-px1)**2 + (py2-py1)**2)**0.5\n",
    "\n",
    "#printing result\n",
    "print(round(dist,2))"
   ]
  },
  {
   "cell_type": "markdown",
   "metadata": {
    "id": "VLrhg-FRsHjR"
   },
   "source": [
    "### Q5:- Write a program to find the simple interest when the value of principle,rate of interest and time period is provided by the user.\n"
   ]
  },
  {
   "cell_type": "code",
   "execution_count": 27,
   "metadata": {
    "id": "s40DlReZsTmY"
   },
   "outputs": [
    {
     "name": "stdout",
     "output_type": "stream",
     "text": [
      "enter your amount :\t70000\n",
      "enter time period :\t2\n",
      "enter rate :\t8\n",
      "your interest is 11200.0\n"
     ]
    }
   ],
   "source": [
    "# Write your code here\n",
    "p = int(input('enter your amount :\\t'))\n",
    "t = int(input('enter time period :\\t'))\n",
    "r = int(input('enter rate :\\t'))\n",
    "\n",
    "#finding interest\n",
    "interest = (p*t*r)/100\n",
    "\n",
    "#print result\n",
    "print(f'your interest is {interest}')"
   ]
  },
  {
   "cell_type": "markdown",
   "metadata": {
    "id": "LMy0BTUktYKa"
   },
   "source": [
    "### Q6:- Write a program that will tell the number of dogs and chicken are there when the user will provide the value of total heads and legs.\n",
    "\n",
    "For example:\n",
    "Input:\n",
    "heads -> 4\n",
    "legs -> 12\n",
    "<br>\n",
    "Output:\n",
    "dogs -> 2\n",
    "chicken -> 2\n",
    "\n",
    "\n",
    "\n"
   ]
  },
  {
   "cell_type": "code",
   "execution_count": 60,
   "metadata": {},
   "outputs": [
    {
     "name": "stdout",
     "output_type": "stream",
     "text": [
      "dogs -> 2.0 chicken -> 2.0\n"
     ]
    }
   ],
   "source": [
    "# Write your code here\n",
    "def find_dogs_chickens(heads, legs):\n",
    "  # Calculate number of chickens\n",
    "  dogs = (legs - 2 * heads) / 2\n",
    "  # Calculate number of dogs\n",
    "  chickens = heads - dogs\n",
    "  # Return the result\n",
    "  return dogs, chickens\n",
    "dogs, chickens = find_dogs_chickens(4, 12)\n",
    "print(f\"dogs -> {dogs} chicken -> {chickens}\")"
   ]
  },
  {
   "cell_type": "code",
   "execution_count": 62,
   "metadata": {},
   "outputs": [
    {
     "name": "stdout",
     "output_type": "stream",
     "text": [
      "4\n",
      "12\n",
      "2.0\n"
     ]
    }
   ],
   "source": [
    "heads=int(input())\n",
    "legs=int(input())\n",
    "\n",
    "dogs = (legs - 2 * heads) / 2\n",
    "\n",
    "print(dogs)"
   ]
  },
  {
   "cell_type": "code",
   "execution_count": 43,
   "metadata": {},
   "outputs": [
    {
     "name": "stdout",
     "output_type": "stream",
     "text": [
      "there are 2 dogs and 2 chicken \n"
     ]
    }
   ],
   "source": [
    "head = 3\n",
    "legs = 8\n",
    "\n",
    "\n",
    "if 4*head == legs:\n",
    "    print(f'there are {head} dogs')\n",
    "\n",
    "else:\n",
    "    for i in range(head):\n",
    "        chicken = 0\n",
    "        dog = head-2\n",
    "        chicken += 2\n",
    "        if 4*tmp == legs:\n",
    "            break\n",
    "    print(f'there are {dog} dogs and {chicken} chicken ')"
   ]
  },
  {
   "cell_type": "markdown",
   "metadata": {
    "id": "gJ7C5kZYt4BP"
   },
   "source": [
    "### Q7:- Write a program to find the sum of squares of first n natural numbers where n will be provided by the user."
   ]
  },
  {
   "cell_type": "code",
   "execution_count": 19,
   "metadata": {
    "id": "_tHsmEHzt2nX"
   },
   "outputs": [
    {
     "name": "stdout",
     "output_type": "stream",
     "text": [
      "enter your number5\n",
      "55\n"
     ]
    }
   ],
   "source": [
    "# Write your code here\n",
    "n = int(input('enter your number'))\n",
    "num = 0\n",
    "\n",
    "for i in range(1,n+1):\n",
    "    kk = i**2\n",
    "    num = kk+num\n",
    "print(num)"
   ]
  },
  {
   "cell_type": "markdown",
   "metadata": {
    "id": "FHrMM7g-yG1h"
   },
   "source": [
    "### Q8:- Given the first 2 terms of an Arithmetic Series.Find the Nth term of the series. Assume all inputs are provided by the user."
   ]
  },
  {
   "cell_type": "code",
   "execution_count": 28,
   "metadata": {
    "id": "go4_kmZmyVSx"
   },
   "outputs": [
    {
     "name": "stdout",
     "output_type": "stream",
     "text": [
      "enter your first term of A.p :\t5\n",
      "enter your second term of A.p :\t9\n",
      "enter your nth term of A.p to find :\t11\n",
      "45\n"
     ]
    }
   ],
   "source": [
    "# Write your code here\n",
    "#first of all we taking first term and second term and nth term of A.p\n",
    "first_term = int(input('enter your first term of A.p :\\t'))\n",
    "second_term = int(input('enter your second term of A.p :\\t'))\n",
    "n = int(input('enter your nth term of A.p to find :\\t'))\n",
    "\n",
    "#here find distance in A.p\n",
    "distance = second_term - first_term\n",
    "\n",
    "#so we calculate from this formula \"an = a + (n – 1) × d\"\n",
    "an = first_term + (n - 1) * distance\n",
    "\n",
    "print(an)"
   ]
  },
  {
   "cell_type": "markdown",
   "metadata": {
    "id": "QgyRX_es1oum"
   },
   "source": [
    "### Q9:- Given 2 fractions, find the sum of those 2 fractions.Take the numerator and denominator values of the fractions from the user."
   ]
  },
  {
   "cell_type": "code",
   "execution_count": 37,
   "metadata": {
    "id": "X05xqFS1yW16"
   },
   "outputs": [
    {
     "name": "stdout",
     "output_type": "stream",
     "text": [
      "enter your num1 :\t3\n",
      "enter your den1 :\t7\n",
      "enter your num2 :\t2\n",
      "enter your den2 :\t11\n",
      "47.0/77.0\n"
     ]
    }
   ],
   "source": [
    "# Write your code here\n",
    "#taking numerator and denominator from user\n",
    "n1 = float(input('enter your num1 :\\t'))\n",
    "d1 = float(input('enter your den1 :\\t'))\n",
    "n2 = float(input('enter your num2 :\\t'))\n",
    "d2 = float(input('enter your den2 :\\t'))\n",
    "\n",
    "#cross multiplication of numerator and denominator\n",
    "result_n = n1*d2 + n2*d1\n",
    "result_d =d1*d2\n",
    "\n",
    "#printing result\n",
    "print(f'{result_n}/{result_d}')"
   ]
  },
  {
   "cell_type": "markdown",
   "metadata": {
    "id": "eaql38ln13u7"
   },
   "source": [
    "### Q10:- Given the height, width and breadth of a milk tank, you have to find out how many glasses of milk can be obtained? Assume all the inputs are provided by the user.\n",
    "\n",
    "\n",
    "\n",
    "Input:<br>\n",
    "Dimensions of the milk tank<br>\n",
    "H = 20cm, L = 20cm, B = 20cm\n",
    "<br><br>\n",
    "Dimensions of the glass<br>\n",
    "h = 3cm, r = 1cm"
   ]
  },
  {
   "cell_type": "code",
   "execution_count": 3,
   "metadata": {
    "id": "FePZqno74eWv"
   },
   "outputs": [
    {
     "name": "stdout",
     "output_type": "stream",
     "text": [
      "enter tank height:\t10\n",
      "enter tank length:\t19\n",
      "enter tank breath:\t10\n",
      "enter glass height:\t5\n",
      "enter glass radius:\t2\n",
      "the number of glass to full a milk tank is 30\n"
     ]
    }
   ],
   "source": [
    "# Write your code here\n",
    "#first taking height,length,breath of milk tank\n",
    "milk_tank_height = float(input('enter tank height:\\t'))\n",
    "milk_tank_length = float(input('enter tank length:\\t'))\n",
    "milk_tank_breath = float(input('enter tank breath:\\t'))\n",
    "\n",
    "#now taking height and radius of glass\n",
    "glass_height = int(input('enter glass height:\\t'))\n",
    "glass_radius = int(input('enter glass radius:\\t'))\n",
    "\n",
    "#calculate volume \n",
    "milk_volume = milk_tank_height*milk_tank_breath*milk_tank_length\n",
    "glass_volume = 3.14*glass_radius*glass_radius*glass_height\n",
    "\n",
    "#print result and import math\n",
    "import math\n",
    "print(f'the number of glass to full a milk tank is {math.floor(milk_volume/glass_volume)}')"
   ]
  }
 ],
 "metadata": {
  "colab": {
   "provenance": []
  },
  "kernelspec": {
   "display_name": "Python 3 (ipykernel)",
   "language": "python",
   "name": "python3"
  },
  "language_info": {
   "codemirror_mode": {
    "name": "ipython",
    "version": 3
   },
   "file_extension": ".py",
   "mimetype": "text/x-python",
   "name": "python",
   "nbconvert_exporter": "python",
   "pygments_lexer": "ipython3",
   "version": "3.9.12"
  }
 },
 "nbformat": 4,
 "nbformat_minor": 1
}
